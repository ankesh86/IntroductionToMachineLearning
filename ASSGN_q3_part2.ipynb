{
  "nbformat": 4,
  "nbformat_minor": 0,
  "metadata": {
    "colab": {
      "provenance": [],
      "authorship_tag": "ABX9TyNPMpBooy+kh0CZzF6cfqHe",
      "include_colab_link": true
    },
    "kernelspec": {
      "name": "python3",
      "display_name": "Python 3"
    },
    "language_info": {
      "name": "python"
    },
    "widgets": {
      "application/vnd.jupyter.widget-state+json": {
        "6e848b53ac92495587476e7ed2aa269d": {
          "model_module": "jupyter-matplotlib",
          "model_name": "MPLCanvasModel",
          "model_module_version": "^0.11",
          "state": {
            "_cursor": "pointer",
            "_data_url": "data:image/png;base64,iVBORw0KGgoAAAANSUhEUgAAAfQAAAH0CAYAAADL1t+KAAAAOXRFWHRTb2Z0d2FyZQBNYXRwbG90bGliIHZlcnNpb24zLjcuMSwgaHR0cHM6Ly9tYXRwbG90bGliLm9yZy/bCgiHAAAACXBIWXMAAA9hAAAPYQGoP6dpAABBbElEQVR4nO3deXwU9f3H8fcmm2wSkmwOEkJIuJRDUA5BKYeAoiAq3qKIikrxV8STQpFqRYqAtqLWKiC0Ba0geF8tigcgVFFuQSpXkAABCSTkIAfZ3fn9EV0aE5UrM+S7r+fjsQ+ys7Mzn88wm/d+Z2Y3LsuyLAEAgDotzOkCAADAiSPQAQAwAIEOAIABCHQAAAxAoAMAYAACHQAAAxDoAAAYgEAHAMAABDoAAAYg0AEAMACBDgCAAQh0AAAMQKADAGAAAh0AAAMQ6AAAGIBABwDAAAQ6AAAGINABADAAgQ4AgAEIdAAADECgAwBgAAIdAAADEOgAABiAQAcAwAAEOgAABiDQAQAwAIEOAIABCHQAAAxAoAMAYAACHQAAAxDoAAAYgEAHAMAABDoAAAYg0AEAMACBDgCAAQh0AAAMQKADAGAAAh0AAAMQ6AAAGIBABwDAAAQ6AAAGINABADAAgQ4AgAEIdAAADECgAwBgAAIdAAADEOgAABiAQAcAwAAEOgAABiDQAQAwAIEOAIABCHQAAAxAoAMAYAACHQAAAxDoAAAYgEAHAMAABDoAAAYg0AEAMIDb6QKcFAgElJOTo7i4OLlcLqfLAQDYyLIsFRUVKT09XWFhdX98G9KBnpOTo8zMTKfLAAA4aOfOncrIyHC6jBMW0oEeFxcnSZr26ZmKjg13uBpnzD67qdMlAIAjfKrQMv07mAV1XUgH+g+H2aNjwxUTF5qB7nZFOF0CADjDqvzHlFOudf+kAQAAINABADABgQ4AgAEIdAAADECgAwBgAAIdAAADEOgAABiAQAcAwAAEOgAABiDQAQAwAIEOAIABCHQAAAxAoAMAYAACHQAAAxDoAAAYgEAHAMAABDoAAAYg0AEAMACBDgCAAQh0AAAMQKADAGAAAh0AAAMQ6AAAGMDtdAF13Z4VUVr3N6/2f+1RyT63+j63V00vKpEkBSqkFU8nKXtJjIp2uhUZF1CjrqU6d1Se6jXwS5KKdrm1emqCcpZHqyQ3XDGpfrW4vFgdh+crPPLIeixL+uofXn0zP05FuyMUlehXm8GFOnv4QQe6PnEDbt2va4fvU1KKT1kbozX1oUbatDbG6bJsFerbgP7pP5T7rw2M0E9QRYlLya0Pq/vD+6s95itzaf/XkTr7znxd/eZuXfTsdzq4PUIfDE8LznMwK0JWwKXz/rhf1/1rl7r+/oD+Oy9OK55MqrKszx5N1jevxKnLmDwNfH+n+k3fq9R25bXeX23odXm+7hiXozlPpmlEv5bK2hiliXOz5E2ucLo024T6NqB/+g/l/mtLnQ70Tz/9VAMGDFB6erpcLpfeeust22to3KtU59yfr2Z9S6o9Fhln6dLZe3XaJYeU0LxCDTqUq/vDB7R/g0fFOeGSpMyeper9WK4yepQqvrFPTfuUqN3QAm1fWC+4nPytEdr4crz6TftOTfuUKD7Tp5QzDyuje6ltfZ5MV9+xX+/PTdLC+UnK3hKlZ8ZkqLzUpX6D8pwuzTahvg3on/5Duf/aUqcD/dChQ2rfvr2ee+45p0s5aoeLwiSXpcj4wM/O40k48viORTGKz6xQ9qIYvXxBpuaen6klv6+vsoN177/PHRFQi3YlWr00LjjNslxaszRObTpVf1NkolDfBvRP/6Hcf22q0+fQ+/fvr/79+ztdxlHzlbv05RNJOv2yYkXGWjXOU7DDrQ3/9OpXYw4EpxXtjFDxbrey3q+n3o/nygpIn09K1kf3NNBlL+6xq/yTIj7Jr3C3dDC36q6Xv9+tzNPr5imEYxXq24D+6T+U+69NdTrQj1V5ebnKy4/sMIWFhbatO1AhfXRvqixL6jG++vl2STq0N1wLhjZU84uLdcb1RcHpVkDyHw5T7z/lKqFZ5TmmXpNy9cZVGTqYFaGE5px3AoBQV/eO2Z6AyZMny+v1Bm+ZmZm2rLcyzBuoeLdbl87aU+Po/NB34XrvloZq0LFMPR+tGvgxKX653FYwzCUp4bTKn4v31K33ZIV54fL7pIQUX5XpifV9ys+tW70cr1DfBvRP/6Hcf20KqUAfO3asCgoKgredO3fW+jp/CPOCHRG69IU9ikqsfu780N5wvXdzQ9Vve1i9HsuV60f/K2mdymT5XCrMPrKzF2yPkCTFpld9UZzqfBVh2vJVjDr2OHIEwuWy1KFHsTauCo2PrIT6NqB/+g/l/mtTSL0d8ng88ng8J3WZFYdcKtgREbxfuCtC+zdGKirBr5gUvz68p4H2f+3Rxc/vleV3qSS38up2j9ev8MjKMH/35nTFpVfoV2MOqCwvPLismJTKz6o36laq+m3LtWRsiro+eEBWQPrP+Ppq1L2kyqi9rnhjRn2NenqnNq+L0aY1MbpqWK6iYgJaOC/pl59siFDfBvRP/6Hcf20JqUCvDbkbPHrv5vTg/eWTkyVJLa8qUqe787Xj48qPn71+RUaV5132zxyldynTrs+iVbgjQoU7IjSnZ5Mq89yxOUuS5AqT+k3fq/9MqK93B6fLHR1QZs9S/eqBA6qLlryTKG+yX7eM3qvEFJ+yvo7Wg4Ob6eD+iF9+siFCfRvQP/2Hcv+1xWVZVs2XW9cBxcXF2rp1qySpY8eOevLJJ3X++ecrKSlJjRs3/sXnFxYWyuv1avbq9oqJC//F+U00o2Vzp0sAAEf4rAot1tsqKChQfHy80+WcsDo9Ql+5cqXOP//84P2RI0dKkoYMGaLZs2c7VBUAAPar04Heu3dv1eEDDAAAnDQhdZU7AACmItABADAAgQ4AgAEIdAAADECgAwBgAAIdAAADEOgAABiAQAcAwAAEOgAABiDQAQAwAIEOAIABCHQAAAxAoAMAYAACHQAAAxDoAAAYgEAHAMAABDoAAAYg0AEAMACBDgCAAQh0AAAMQKADAGAAAh0AAAMQ6AAAGIBABwDAAAQ6AAAGcDtdwKlg9tlN5XZFOF2GI5p+Ge10CY769txSp0sAgJOCEToAAAYg0AEAMACBDgCAAQh0AAAMQKADAGAAAh0AAAMQ6AAAGIBABwDAAAQ6AAAGINABADAAgQ4AgAEIdAAADECgAwBgAAIdAAADEOgAABiAQAcAwAAEOgAABiDQAQAwAIEOAIABCHQAAAxAoAMAYAACHQAAAxDoAAAYgEAHAMAABDoAAAZwO11AqBpw635dO3yfklJ8ytoYrakPNdKmtTFOl3XMylb7VfCST4e/Cci/X0r5U6Tq9Q4PPm5Zlg7O8Kn4LZ8CxZKnXZiSx0QoonHle8nSVX59N/xwjctuONsjT5swVewI6MBjFTq8PaBAseSu71K9fuFKGOaWy+2ypc+T6cwuxbruzly1OKtEyWk+PXJ7U33+vtfpsmxnymvgeNF/aPdfGxihO6DX5fm6Y1yO5jyZphH9WiprY5Qmzs2SN7nC6dKOWaBMimwRpqTRkTU+XviiT4XzfUp+IFIN/+GRK1r67p7DCpRbkqSodmHK+HdUlVvsFeFyp7sUecb3Ye2W6l0SrrRnPMp41aOkkREqetungzN8drV5UkXFBJT1dZSe/X2G06U4xqTXwPGg/9Duv7bU2UCfPHmyzjnnHMXFxSk1NVVXXnmlNm3a5HRZR+XqO/br/blJWjg/SdlbovTMmAyVl7rUb1Ce06Uds5hu4UocHqF654dXe8yyLBXO8ynhdrdieoUrskWYUh6JlG+/pZIlfkmSK8Ild/0jt/AEqeRTv2IHhMvlqgz0iEZhihvgVmTLMLkbhimmZ7hi+4WrbE3AzlZPmpWL4vXCnxrqsxAclf/ApNfA8aD/0O6/ttTZQF+yZIlGjBih5cuX68MPP1RFRYX69u2rQ4cOOV3az3JHBNSiXYlWL40LTrMsl9YsjVObTiUOVnby+XIs+Q9IUeceCfuwWJc8bcNUvr7mMC75NKBAgRR72U+fDarYGVDp8oCizq6zu29IC6XXQE3oP7T7r0119hz6+++/X+X+7NmzlZqaqlWrVqlnz54OVfXL4pP8CndLB3Orbvr8/W5lnl7uUFW1w3+g8rB6eFLV89zhSS75D9T8nOJ3fIr+VZjcDaqfG98ztFzlmwLSYSn2qnAl/F+d3X1DWii9BmpC/6Hdf20y5jdiQUGBJCkpKekn5ykvL1d5+ZEdprCwsNbrwtHzfWepdHlAKZNqPh+fMilCgUPS4S0B5f+1QoUvueS9JcLmKgHg1GTEMctAIKD77rtP3bt315lnnvmT802ePFlerzd4y8zMtLHKSoV54fL7pISUqhd0Jdb3KT/XmPdXkqTw5MpRtj/PqjLdn2cpPLn6/MXv+RTmlWJ61rxbuhuEKbJ5mGL7uZU4IkIHZ/pk+a0a58WpK5ReAzWh/9DuvzYZEegjRozQhg0bNG/evJ+db+zYsSooKAjedu7caVOFR/gqwrTlqxh17FEUnOZyWerQo1gbV5n1kQ13ukvhyVLZCn9wWqDYUvnXAXnOqrrrWZal4nf9ir3kKD+KFpAsnyTyvM4JpddATeg/tPuvTXX+7dBdd92l9957T59++qkyMn7+Y0Aej0cej8emyn7aGzPqa9TTO7V5XYw2rYnRVcNyFRUT0MJ5P3264FQVKLFUsetIqvpyLJVvDig8XnKnhSn+BrcK/uFTRGaY3Oku5U+vkLu+SzG9ql4VX7YiIF+Opdgrql8tX/y+T65wKeL0MLkipcMbA8qfWqF6F4XXyc+hR8X4ld7syGfv0zIPq3nbUhUdDFfu7ppPN5jGpNfA8aD/0O6/ttTZQLcsS3fffbfefPNNLV68WM2aNXO6pKO25J1EeZP9umX0XiWm+JT1dbQeHNxMB/fXvfPB5f8NVPlimPynKz9HWu/ScKWMi1T8LW4FyqT9kw4rUCxFtQ9Tg79EKsxTNYiL3/HL0y5MkU2rHzRyhUsF//SpItuSLMmd5lLcdW7FD6qbu2/L9qX68+vbgvd/Mz5HkrRwfqKm3N/YqbJsZdJr4HjQf2j3X1tclmXVyYOWd955p+bOnau3335brVq1Ck73er2Kjo4+qmUUFhbK6/Wqt66Q2xWaO1LTL49uW5nq23NLnS4BgEN8VoUW620VFBQoPj7e6XJOWJ09hz5t2jQVFBSod+/eatiwYfA2f/58p0sDAMB2dfOYpSoPuQMAgEp1doQOAACOINABADAAgQ4AgAEIdAAADECgAwBgAAIdAAADEOgAABiAQAcAwAAEOgAABiDQAQAwAIEOAIABCHQAAAxAoAMAYAACHQAAAxDoAAAYgEAHAMAABDoAAAYg0AEAMACBDgCAAQh0AAAMQKADAGAAAh0AAAMQ6AAAGIBABwDAAAQ6AAAGcDtdAJz17bmlTpfgrI8znK7AWX12OV0BgJOEEToAAAYg0AEAMACBDgCAAQh0AAAMQKADAGAAAh0AAAMQ6AAAGIBABwDAALYH+vvvv69ly5YF7z/33HPq0KGDbrzxRuXn59tdDgAARrA90EePHq3CwkJJ0vr16/Xb3/5Wl1xyibZv366RI0faXQ4AAEaw/atft2/frjZt2kiSXn/9dV122WWaNGmSVq9erUsuucTucgAAMILtI/TIyEiVlJRIkj766CP17dtXkpSUlBQcuQMAgGNj+wi9R48eGjlypLp3764vv/xS8+fPlyRt3rxZGRkh/ocyAAA4TraP0J999lm53W699tprmjZtmho1aiRJWrBggS6++GK7ywEAwAi2j9AbN26s9957r9r0p556yu5SAAAwhi2BfiznxuPj42uxEgAAzGRLoCckJMjlcv3sPJZlyeVyye/321ESAABGsSXQFy1aZMdqAAAIWbYEeq9evexYDQAAIcuR73JfunSpbrrpJnXr1k27d++WJP3zn/+s8pWwAADg6Nke6K+//rr69eun6OhorV69WuXl5ZKkgoICTZo0ye5yAAAwgu2B/uijj2r69OmaOXOmIiIigtO7d++u1atX210OAABGsD3QN23apJ49e1ab7vV6dfDgQbvLAQDACLYHelpamrZu3Vpt+rJly9S8eXO7ywEAwAi2B/qwYcN077336osvvpDL5VJOTo7mzJmjUaNGafjw4XaXAwCAEWz/6tcHHnhAgUBAffr0UUlJiXr27CmPx6NRo0bp7rvvtrscxwy4db+uHb5PSSk+ZW2M1tSHGmnT2hiny7KN0f2XBKRZhdKyUumgXzo9UhqRILWOrHy8NCDNLJD+UyYV+qU0t3R1rDQg9sgyRu6T1h2uutzL6kn3J9rWRm0zeh84CvQf2v3XBttH6C6XSw8++KDy8vK0YcMGLV++XLm5uZowYYLdpTim1+X5umNcjuY8maYR/Voqa2OUJs7Nkje5wunSbGF8/1PypVVl0tgk6W9pUmeP9LtcKff7b0GcViCtKJPGJkqz0qRrYqVnDkqflVZdzqX1pFcbHrnd4bW9ldpi/D7wC+g/tPuvLY58Dl2q/LvocXFxatiwoWJjY3/5CT8ybdo0tWvXTvHx8YqPj1fXrl21YMGCWqj05Lv6jv16f26SFs5PUvaWKD0zJkPlpS71G5TndGm2MLr/ckv6tLQyfNt5pEZuaYhXSndL7xZXzvN1udS3ntQhqnJ0flmsdFqE9M2PRuQel5QUfuRWz7GX60ln9D5wFOg/tPuvLbb/hvD5fPrDH/4gr9erpk2bqmnTpvJ6vXrooYdUUXH0784yMjL02GOPadWqVVq5cqUuuOACXXHFFfr6669rsfoT544IqEW7Eq1eGhecZlkurVkapzadShyszB7G9++3pICkyB/97QKPS9pQ+Z0LauuRPi+tHLFblrSmTNrlkzpHVX3OxyXSVTnS0L3S3wqksoAtLdQ24/eBX0D/od1/bbL9HPrdd9+tN954Q3/605/UtWtXSdLnn3+uRx55RAcOHNC0adOOajkDBgyocn/ixImaNm2ali9frrZt2570uk+W+CS/wt3Swdyqmz5/v1uZp5c7VJV9jO8/JkxqEym9VCg1jpASw6RPSqSNhytH6ZJ0V4L0ZL50wx4pXJVvq0cmVo7of3BBjNTALSWHS1kVlefcd1ZI4+s70NTJZfw+8AvoP7T7r022B/rcuXM1b9489e/fPzitXbt2yszM1KBBg4460P+X3+/Xq6++qkOHDgXfJNSkvLw8+M100rH9WVfgqI1Nkv6cJ12/pzKsW0RI58dIW74/pP5WsfTfw9KEZKlBuLT+cOU59ORwqdP3o/TL/uc0VPMIKTlMGrVfyvEdeWMAAP/D9t8MHo9HTZs2rTa9WbNmioyMPKZlrV+/Xl27dlVZWZliY2P15ptvqk2bNj85/+TJkzV+/PhjLfmkKswLl98nJaT4qkxPrO9Tfq75v6hDov90t/RUauXV7CVWZVBPOCA1dFeeY/97gTQ+WfpVdOX8p0VKWw9LrxYdCfQf++EK+d11P9BDYh/4GfQf2v3XJtvPod91112aMGFClZFyeXm5Jk6cqLvuuuuYltWqVSutXbtWX3zxhYYPH64hQ4Zo48aNPzn/2LFjVVBQELzt3LnzuPs4Xr6KMG35KkYdexQFp7lcljr0KNbGVeZ/ZCOk+o8OqwzzokDlVe3doiSfJfkk/egUu8Jclefef8q2768vSar7F8aF1D5QA/oP7f5rky1vh66++uoq9z/66CNlZGSoffv2kqR169bp8OHD6tOnzzEtNzIyUqeffrokqVOnTlqxYoX+8pe/6Pnnn69xfo/HI4/HU+NjdnpjRn2NenqnNq+L0aY1MbpqWK6iYgJaOC/J6dJsYXz/K8okS1Kmu3JEPaOg8nz6xfUkt0tqH1k5zeOqPE++rlz68JA0PKHy+Tm+ygviukRJ8WGV59CnHpTaRVaO5g1g/D7wC+g/tPuvLbYEutdb9fOz11xzTZX7mZmZJ2U9gUCgysj/VLXknUR5k/26ZfReJab4lPV1tB4c3EwH90f88pMNYHz/hwKVV6Xv90txYdJ50dLt3sowl6SHkisfn5RXOXpv4K58fEC9ysfdklaXSa8XV17ZnuquXMZN8Y61dLIZvw/8AvoP7f5ri8uyLMvpIo7H2LFj1b9/fzVu3FhFRUWaO3euHn/8cX3wwQe66KKLjmoZhYWF8nq96q0r5HaxI4WkjzOcrsBZfXY5XQHgGJ9VocV6WwUFBYqPr/tvmOvsFQj79u3TLbfcoj179sjr9apdu3bHFOYAAJjEkUB/7bXX9Morryg7O1uHD1f9dqyj/Zvof//732ujNAAA6iTbL5l95plndNttt6lBgwZas2aNzj33XCUnJysrK6vKZ9MBAMDRsz3Qp06dqhkzZuivf/2rIiMj9bvf/U4ffvih7rnnHhUUFNhdDgAARrA90LOzs9WtWzdJUnR0tIqKKj+LePPNN+vll1+2uxwAAIxge6CnpaUpL6/yL+o0btxYy5cvlyRt375ddfSCewAAHGd7oF9wwQV65513JEm33Xab7r//fl100UW6/vrrddVVV9ldDgAARrD9KvcZM2YoEKj8jssRI0YoOTlZn332mS6//HL95je/sbscAACMYHugh4WFKSzsyIGBG264QTfccIMOHjyoV199VTfeeKPdJQEAUOedMn/pYceOHbr55pudLgMAgDrplAl0AABw/Ah0AAAMQKADAGAA2y6Ke+aZZ3728d27d9tUCQAA5rEt0J966qlfnKdx48Y2VAIAgHlsC/Tt27fbtSoAAEIO59ABADAAgQ4AgAEIdAAADECgAwBgAAIdAAAD2HKVe2Fh4VHPGx8fX4uVAABgJlsCPSEhQS6X66jm9fv9tVwNAADmsSXQFy1aFPz522+/1QMPPKBbb71VXbt2lSR9/vnneuGFFzR58mQ7ygEAwDi2BHqvXr2CP//xj3/Uk08+qUGDBgWnXX755TrrrLM0Y8YMDRkyxI6SAAAwiu0XxX3++efq3LlztemdO3fWl19+aXc5AAAYwfZAz8zM1MyZM6tN/9vf/qbMzEy7ywEAwAi2fZf7D5566ildc801WrBggbp06SJJ+vLLL7Vlyxa9/vrrdpeDUNdnl9MVOGrQNzlOl+Col1unO10CcNLYPkK/5JJLtHnzZg0YMEB5eXnKy8vTgAEDtHnzZl1yySV2lwMAgBFsH6FLlYfdJ02a5MSqAQAwkiPfFLd06VLddNNN6tatm3bv3i1J+uc//6lly5Y5UQ4AAHWe7YH++uuvq1+/foqOjtbq1atVXl4uSSooKGDUDgDAcbI90B999FFNnz5dM2fOVERERHB69+7dtXr1arvLAQDACLYH+qZNm9SzZ89q071erw4ePGh3OQAAGMH2QE9LS9PWrVurTV+2bJmaN29udzkAABjB9kAfNmyY7r33Xn3xxRdyuVzKycnRnDlzNGrUKA0fPtzucgAAMILtH1t74IEHFAgE1KdPH5WUlKhnz57yeDwaNWqU7r77brvLAQDACLYHusvl0oMPPqjRo0dr69atKi4uVps2bRQbG2t3KQAAGMP2Q+633367ioqKFBkZqTZt2ujcc89VbGysDh06pNtvv93ucgAAMILtgf7CCy+otLS02vTS0lK9+OKLdpcDAIARbDvkXlhYKMuyZFmWioqKFBUVFXzM7/fr3//+t1JTU+0qBwAAo9gW6AkJCXK5XHK5XGrZsmW1x10ul8aPH29XOQAAGMW2QF+0aJEsy9IFF1yg119/XUlJScHHIiMj1aRJE6Wn86cMAQA4HrYFeq9evSRJ27dvV+PGjeVyuexaNQAAxrP9orhPPvlEr732WrXpr776ql544QW7ywEAwAi2B/rkyZNVv379atNTU1P5a2sAABwn2wM9OztbzZo1qza9SZMmys7OtrscAACMYHugp6am6quvvqo2fd26dUpOTra7HAAAjGB7oA8aNEj33HOPFi1aJL/fL7/fr08++UT33nuvbrjhBrvLAQDACLZ/l/uECRP07bffqk+fPnK7K1cfCAR0yy23cA4dAIDjZHugR0ZGav78+ZowYYLWrVun6OhonXXWWWrSpIndpQAAYAzbA/0HLVu2rPEb4wAAwLGzJdBHjhypCRMmqF69eho5cuTPzvvkk0/aURIAAEaxJdDXrFmjioqK4M8/hW+PAwDg+NgS6IsWLarx51A24Nb9unb4PiWl+JS1MVpTH2qkTWtjnC7LNqHev2TGNti3IlL//Xus8r+OUGluuM57Nk8ZF5ZJkgIV0ld/iVPOkigV7wpXZKylBt3K1X5koWIaBILLKD/o0qpHvdq9KEquMCmzb6nO/n2hIupZwXnyN7m16o9eHVgfqaikgFrcdEhtfl1se78ny5ldinXdnblqcVaJktN8euT2pvr8fa/TZdnKhP3/VGP7x9Zqy2OPPSaXy6X77rvP6VJ+Ua/L83XHuBzNeTJNI/q1VNbGKE2cmyVvcoXTpdki1PuXzNkGvlKXEltXqNPDBdUfK3Mpb2OkzryzSBe/nqsef81T0Xa3lt6ZVGW+z0cnqmBrhM7/xwH1mp6nfSs9WvHwkXCrKHZp8dBkxaT7dfHrueowukAbno3V1vl195d/VExAWV9H6dnfZzhdiiNM2f9PNbaM0K+++uqjnveNN9445uWvWLFCzz//vNq1a3fMz3XC1Xfs1/tzk7RwfuUvtmfGZOjcPoXqNyhPrzzbwOHqal+o9y+Zsw3Se5YrvWd5jY9Fxlm64B8H/meKX53+UKCF16XoUE646qX7VbDNrT1Lo9T31Vwln1X5y7zTQwVackeSOvyuciT/7bvRClS41GXiQYVHSt4WPuV/c0jfzK6n068vsaHLk2/lonitXBTvdBmOMWX/P9XYMkL3er3BW3x8vD7++GOtXLky+PiqVav08ccfy+s99kNOxcXFGjx4sGbOnKnExMSTWXatcEcE1KJdiVYvjQtOsyyX1iyNU5tOdfOX07EI9f6l0N4GFUUuyWUpMr7ykPv+tRGKiA8Ew1yS0rqWyxUmHfgq8vt5IpXSuVzhkUeW07B7uYq2R+hwAdfd1DWhvP/XNltG6LNmzQr+PGbMGA0cOFDTp09XeHi4JMnv9+vOO+9UfPyxv2MdMWKELr30Ul144YV69NFHT1rNtSU+ya9wt3Qwt+qmz9/vVubpNY90TBLq/Uuhuw385dLaJ+LV5NJSRcRWnh8vyw1XVFKgynxhbinSG1DZ/rDv5wlTvQx/lXmi6lc+p3R/uCK9Phuqx8kSqvu/HWz/HPo//vEPLVu2LBjmkhQeHq6RI0eqW7du+vOf/3zUy5o3b55Wr16tFStWHNX85eXlKi8/ssMUFhYefeEAjlugQvrPfZWHV895pPr5dgAnzvaL4nw+n7755ptq07/55hsFAoEanlGznTt36t5779WcOXMUFRV1VM+ZPHlylcP/mZmZR72+k6UwL1x+n5SQUnVUkVjfp/xcx77nxzah3r8UetsgUCH95/5EHcoJ1/l/PxAcnUtSVIpfZXlVfw0FfNLhgrDgKDwqJaCyA1Xn+WH0Hl2/6sgdp75Q2//tZHug33bbbRo6dKiefPJJLVu2TMuWLdOUKVP061//WrfddttRL2fVqlXat2+fzj77bLndbrndbi1ZskTPPPOM3G63/P7qL/SxY8eqoKAgeNu5c+fJbO2o+CrCtOWrGHXsURSc5nJZ6tCjWBtX1d2rdo9WqPcvhdY2+CHMi3a4df6sA/IkWlUer9+hQhWFYcrbEBGc9t1yj6yAlNzu8PfzHFbuSo8C/3MB9N7PPIprVqFIb9Xl4dQXSvu/3Wx/O/TEE08oLS1NU6ZM0Z49eyRJDRs21OjRo/Xb3/72qJfTp08frV+/vsq02267Ta1bt9aYMWOqHNL/gcfjkcfjObEGToI3ZtTXqKd3avO6GG1aE6OrhuUqKiaghfOSfvnJBgj1/iVztkHFIZeKs4+81op3hSv/v25Fei1Fp/i17N5E5W+MVM/pB2T5pdLcyjFEpDdQecX6aT41PK9MXz7s1TmPFCjgc2nVBK+aXFIa/Kx6k8tKteG5OH3xUILa/LpYB7e4temf9XT2A3X3lFlUjF/pzQ4H76dlHlbztqUqOhiu3N2RP/NMM5iy/59qXJZlOfYW94dz2MdzMVxNevfurQ4dOujpp58+6vV7vV711hVyuyJ++Qkn0eW3VX6pQmKKT1lfR2vqH9K1aU09W2twUqj3L50a22DQNzkn9PzvvojUJ0PqV5ve7MoSnXlXkd69sOaPIF3wwn416FIZaOUHK0P8hy+Wyehbpk4PFvzkF8t4EgNqedMhtRl24l8s83Lr9BNexvFo17VYf359W7XpC+cnasr9jR2oyH6nwv7vsyq0WG+roKDgpOWQkxwJdJ/Pp8WLF2vbtm268cYbFRcXp5ycHMXHxys2Nva4l1uXAh04FZxooNd1TgU6Tg2mBbrth9x37Nihiy++WNnZ2SovL9dFF12kuLg4Pf744yovL9f06dOPe9mLFy8+eYUCAFCH2H5R3L333qvOnTsrPz9f0dHRwelXXXWVPv74Y7vLAQDACLaP0JcuXarPPvtMkZFVL/xo2rSpdu/ebXc5AAAYwfYReiAQqPEjZbt27VJcXFwNzwAAAL/E9kDv27dvlYvWXC6XiouLNW7cOF1yySV2lwMAgBEc+Rz6xRdfrDZt2qisrEw33nijtmzZovr16+vll1+2uxwAAIxge6BnZmZq3bp1mj9/vtatW6fi4mINHTpUgwcPrnKRHAAAOHq2BnpFRYVat26t9957T4MHD9bgwYPtXD0AAMay9Rx6RESEysrK7FwlAAAhwfaL4kaMGKHHH39cPh9/wxgAgJPF9nPoK1as0Mcff6yFCxfqrLPOUr16Vb+794033rC7JAAA6jzbAz0hIUHXXHON3asFAMBotgf6rFmz7F4lAADGs+0ceiAQ0OOPP67u3bvrnHPO0QMPPKDS0lK7Vg8AgNFsC/SJEyfq97//vWJjY9WoUSP95S9/0YgRI+xaPQAARrMt0F988UVNnTpVH3zwgd566y29++67mjNnjgKBgF0lAABgLNsCPTs7u8p3tV944YVyuVzKycmxqwQAAIxlW6D7fD5FRUVVmRYREaGKigq7SgAAwFi2XeVuWZZuvfVWeTye4LSysjL95je/qfJZdD6HDgDAsbMt0IcMGVJt2k033WTX6gEAMJptgc7nzwEAqD22f5c7AAA4+Qh0AAAMQKADAGAAAh0AAAMQ6AAAGIBABwDAALb/+VQAp45XzmvvdAmOemXXO06X4LiBGV2dLgEnCSN0AAAMQKADAGAAAh0AAAMQ6AAAGIBABwDAAAQ6AAAGINABADAAgQ4AgAEIdAAADECgAwBgAAIdAAADEOgAABiAQAcAwAAEOgAABiDQAQAwAIEOAIABCHQAAAxAoAMAYAACHQAAAxDoAAAYgEAHAMAABDoAAAYg0AEAMACBDgCAAQh0AAAM4Ha6gFA14Nb9unb4PiWl+JS1MVpTH2qkTWtjnC7LNqHevxQa2yAszNLg4Vk6/9I9Skw+rLxcjz56p6FentFMkis4X2azQ7rtvi06q1O+wt2WsrfFauJv2yl3b5RzxR+Fjcvj9M70dG1fH6v87yI16m/f6NyL84OPvzIlQ5+9U18HciLljrTU/Kxi3fC7nWpxdrEk6evP4jV+YNsalz3pva90eodDytkWpZkPNNeuLdEqKXIrscFh9bhyv669f5fcEZYtfdaGUNj/7VZnR+iPPPKIXC5XlVvr1q2dLuuo9Lo8X3eMy9GcJ9M0ol9LZW2M0sS5WfImVzhdmi1CvX8pdLbBtbd9q0uu26Vpk1vr/67qqn88fbquuXWHLr9xZ3CetIwS/Xn2Su3aXk9jft1Jd177K708o5kOHz71fz2Vl4SraZsSDX10e42Ppzcv0+2PbtcTH63TH9/YoJSMcj06+AwVHqgcS7XqXKQZq1dWuV0w6DulNi7Tae0PSZLC3ZZ6XpurB+f+V08vWaNbH/lWH89N1StTMmzr82QLlf3fbnV6hN62bVt99NFHwftud91o5+o79uv9uUlaOD9JkvTMmAyd26dQ/Qbl6ZVnGzhcXe0L9f6l0NkGbToUaPniFK1YWl+StC8nWr3771XLMwuD8wy5e5tWLkvWP55uEZy2d1fdGKl1vOCgOl5w8Ccf73HV/ir3bxm3Q5/Ma6Ad/43RWT0K5Y60lJB6JMR8FS6tXJiki2/bI9f3BzAaNClXgya5wXlSMg7r68/365sv409qL3YKlf3fbqf+W+Cf4Xa7lZaWFrzVr1/f6ZJ+kTsioBbtSrR6aVxwmmW5tGZpnNp0KnGwMnuEev9SaG2DjWu96nBunho1qRxtNmtZpDYdC7RyWbIkyeWydM55+7V7R4wmTFutuYuW6KmXvlTX8/c5WXat8B126aM5qYqJ96lJm5r/n1cuTFRRvlvnD8yt8XFJ2rs9SmsXJ6jNrwp/cp5TWSjt/3arG0Pan7Blyxalp6crKipKXbt21eTJk9W4cWOny/pZ8Ul+hbulg7lVN33+frcyTy93qCr7hHr/Umhtg1f/0VQxsT49/9bnCvhdCgu39OJfT9PifzeUJCUkHVZMPb+uu/1bvfjsaZr1dAt16n5ADz75lR74dSdtWJXocAcnbtVHCXr6zpY6XBqmhNQKPTR3o+KTfDXOu2heqjr0Oqjk9MPVHnvoijO1fUM9VZSH6cLB32ngqJ01LOHUF0r7v93qbKB36dJFs2fPVqtWrbRnzx6NHz9e5513njZs2KC4uLgan1NeXq7y8iM7TGFh3XyHC9QV5/X7Tudfsld/GnumsrfGqnnrIt0xerMO5Hr08bvpcn1/jHD5ohS99VITSVLWpjid0f6gLrlulxGB3rZbof78wVcqzHPr47kN9NTwlpr07np561cN9QM5kVq7JEH3T9tc43Lum7ZZZcXh+nZjjF56tInenZ6uK+7MsaMF1BF1NtD79+8f/Lldu3bq0qWLmjRpoldeeUVDhw6t8TmTJ0/W+PHj7SqxRoV54fL7pISUqi/mxPo+5efW2f+Ooxbq/UuhtQ2G3r9Fr/6jqT59P02S9O3WWKU2LNXAod/q43fTVZgfIV+FS9lZ9ao8b+f2emrb4aADFZ98UTEBpTUrU1ozqWWnYt3To4M+mZeqq+6qGsaLXklRXKJPnfvm17ic+t+P2jNalirgd2nGmOYa8H85Cguv9RZOqlDa/+1Wp8+h/6+EhAS1bNlSW7du/cl5xo4dq4KCguBt5077D1n5KsK05asYdexRFJzmclnq0KNYG1fVjQuBTkSo9y+F1jbwRAUUCLiqTAv4XQr7/jePzxemzV/HK6Np1XOnjZqUaN+eU/sja8fLslyqKA/70TRp8Sup6nlt7lF9FM2yJL/PVW3b1gWhtP/bzZi3Q8XFxdq2bZtuvvnmn5zH4/HI4/HYWFXN3phRX6Oe3qnN62K0aU2MrhqWq6iYgBbOS3K6NFuEev9S6GyDL5bU1w3Dtit3b5R2bKun01oX6aqbs7Xw7fTgPK+/0EQP/Gm91q9K1FcrEtWp+wF16blfY37dycHKj07ZoTDt/fbIG499O6P07dcxik3wKTbRpzeeaaTOF+UrscFhFeVF6P0X0pS3N1JdLztQZTkb/hOvfdlR6jPou2rrWPpGfYVHWGrcukQRkQFt+ypWcyc3UdcBB+rs59BDZf+3W50N9FGjRmnAgAFq0qSJcnJyNG7cOIWHh2vQoEFOl/aLlryTKG+yX7eM3qvEFJ+yvo7Wg4Ob6eD+CKdLs0Wo9y+FzjaY/lgr3Txim0b8/ht5kyq/WGbBa4009/nmwXk+/yRVzz7aWgNv/1a/GbNJu76N0cTfnqWNaxKcK/wobVsXW+WLYV4c31SS1Ou6fRo2OUs5W6M15dVUFeW7FZfo02ntizX+9Q3KbFVaZTmfvNxArToXqtHpZdXWEe629PbUdO3JipZlSSkZ5br4tj269Nd7arW32hQq+7/dXJZl1cm3eDfccIM+/fRTHThwQCkpKerRo4cmTpyo00477aiXUVhYKK/Xq966Qm4XOxJCT3hKitMlOOrlNe84XYLjBmZ0dboEx/isCi3W2yooKFB8fN39XP8P6uwIfd68eU6XAADAKcOYi+IAAAhlBDoAAAYg0AEAMACBDgCAAQh0AAAMQKADAGAAAh0AAAMQ6AAAGIBABwDAAAQ6AAAGINABADAAgQ4AgAEIdAAADECgAwBgAAIdAAADEOgAABiAQAcAwAAEOgAABiDQAQAwAIEOAIABCHQAAAxAoAMAYAACHQAAAxDoAAAYgEAHAMAABDoAAAZwO10AAOf4c3OdLsFRAzO6Ol2C4z7IWet0CY4pLAoosaXTVZw8jNABADAAgQ4AgAEIdAAADECgAwBgAAIdAAADEOgAABiAQAcAwAAEOgAABiDQAQAwAIEOAIABCHQAAAxAoAMAYAACHQAAAxDoAAAYgEAHAMAABDoAAAYg0AEAMACBDgCAAQh0AAAMQKADAGAAAh0AAAMQ6AAAGIBABwDAAAQ6AAAGINABADCA2+kCQtWAW/fr2uH7lJTiU9bGaE19qJE2rY1xuizbhHr/EtuA/s3of/3yenp1aqq2rI9R3ncRGvf37erWv6DGef8yJkP//md9/d/43bp6WG5wemF+uKY+1EhffOiVK0zqcclBDZ+wW9H1ApKkfz6RppeeTKu2PE+0X+9sW187jdVBdXqEvnv3bt10001KTk5WdHS0zjrrLK1cudLpsn5Rr8vzdce4HM15Mk0j+rVU1sYoTZybJW9yhdOl2SLU+5fYBvRvTv9lJWFq3rZUd03a9bPz/WeBV9+sqqfktMPVHnv8ribasSlak+dt0x9fyNL6L2L19OjM4OPXDt+nl9duqHJr3LJUPQfU/MYhVNXZQM/Pz1f37t0VERGhBQsWaOPGjZoyZYoSExOdLu0XXX3Hfr0/N0kL5ycpe0uUnhmTofJSl/oNynO6NFuEev8S24D+zen/nAuKdOuYver+E6NySdq/J0JTH2qkMc/tkPtHx4Wzt3i0clG87p+SrdZnl+jMLod056O7tOTtBB3YWzlzdL2AklJ9wVt+rlvZm6PVb9CB2mytzqmzgf74448rMzNTs2bN0rnnnqtmzZqpb9++Ou2005wu7We5IwJq0a5Eq5fGBadZlktrlsapTacSByuzR6j3L7EN6D+0+g8EpD/d01jXDt+npq3Kqj3+35X1FOv1qWX70uC0s88rkitM+mZNvRqX+f7cZGU0L9NZXQ7VWt11UZ0N9HfeeUedO3fWddddp9TUVHXs2FEzZ850uqxfFJ/kV7hbOphb9W1q/n63ElN8DlVln1DvX2Ib0H9o9f/Kc6kKD7d05dD9NT6el+tWQnLVvsPdUlyCT3n7ql/mdbjMpU/eTKyTRzNqW50N9KysLE2bNk0tWrTQBx98oOHDh+uee+7RCy+88JPPKS8vV2FhYZUbAKB2bPkqWm/9LUWjns6Wy3VylvmfBV6VFofrooEE+o/V2avcA4GAOnfurEmTJkmSOnbsqA0bNmj69OkaMmRIjc+ZPHmyxo8fb2eZ1RTmhcvvkxJ+9E48sX7leSHThXr/EtuA/kOn//VfxOrgfrduOqdtcFrA79LM8el6a2aKXvxyo5JSfDp4oGrffp9UdNCtpNTqRyzefzlZXS4sMPJoxomqsyP0hg0bqk2bNlWmnXHGGcrOzv7J54wdO1YFBQXB286dO2u7zGp8FWHa8lWMOvYoCk5zuSx16FGsjavq3kdWjlWo9y+xDeg/dPq/8Jo8Tf94k6Z9eOSWnHZY1w7fp4lzt0mSzuh8SMUFbm35Kjr4vLXL4mQFpNYdq54j35sdqXX/ieVw+0+os28Hu3fvrk2bNlWZtnnzZjVp0uQnn+PxeOTxeGq7tF/0xoz6GvX0Tm1eF6NNa2J01bBcRcUEtHBektOl2SLU+5fYBvRvTv+lh8KUs/3I79W9OyO1bUO04hJ8Ss2oUHySv8r8breUmOpT5unlkqTGLcrV+fxCPT0qU3c/vkv+Cpeee6iRel1xUMlpVUfhH8xLUlKDCp1zAadLa1JnA/3+++9Xt27dNGnSJA0cOFBffvmlZsyYoRkzZjhd2i9a8k6ivMl+3TJ6rxJTfMr6OloPDm6mg/sjnC7NFqHev8Q2oH9z+t+8Lka/u/b04P3nH2kkSbpoYJ5GPf3TR0z/15hnd+i5BzP0wMDTgl8sc+eju6vMEwhIC+cn6aKBeQoPP3n1m8RlWZbldBHH67333tPYsWO1ZcsWNWvWTCNHjtSwYcOO+vmFhYXyer3qrSvkdtW9FxIAnKgPctY6XYJjCosCSmyZpYKCAsXHxztdzgmrsyN0Sbrssst02WWXOV0GAACOq7MXxQEAgCMIdAAADECgAwBgAAIdAAADEOgAABiAQAcAwAAEOgAABiDQAQAwAIEOAIABCHQAAAxAoAMAYAACHQAAAxDoAAAYgEAHAMAABDoAAAYg0AEAMACBDgCAAQh0AAAMQKADAGAAAh0AAAMQ6AAAGIBABwDAAAQ6AAAGINABADAAgQ4AgAHcThfgJMuyJEk+VUiWw8UAgAMKiwJOl+CYwuLK3n/IgroupAO9qKhIkrRM/3a4EgBwRmJLpytwXlFRkbxer9NlnDCXZcpbk+MQCASUk5OjuLg4uVwu29dfWFiozMxM7dy5U/Hx8bav32n0T//0H7r9S85vA8uyVFRUpPT0dIWF1f0z0CE9Qg8LC1NGRobTZSg+Pj5kX9AS/dM//Ydy/5Kz28CEkfkP6v5bEgAAQKADAGACAt1BHo9H48aNk8fjcboUR9A//dN/6PYvsQ1OtpC+KA4AAFMwQgcAwAAEOgAABiDQAQAwAIEOAIABCHQHfPrppxowYIDS09Plcrn01ltvOV2SrSZPnqxzzjlHcXFxSk1N1ZVXXqlNmzY5XZZtpk2bpnbt2gW/TKNr165asGCB02U55rHHHpPL5dJ9993ndCm2eOSRR+RyuarcWrdu7XRZttq9e7duuukmJScnKzo6WmeddZZWrlzpdFl1HoHugEOHDql9+/Z67rnnnC7FEUuWLNGIESO0fPlyffjhh6qoqFDfvn116NAhp0uzRUZGhh577DGtWrVKK1eu1AUXXKArrrhCX3/9tdOl2W7FihV6/vnn1a5dO6dLsVXbtm21Z8+e4G3ZsmVOl2Sb/Px8de/eXREREVqwYIE2btyoKVOmKDEx0enS6ryQ/upXp/Tv31/9+/d3ugzHvP/++1Xuz549W6mpqVq1apV69uzpUFX2GTBgQJX7EydO1LRp07R8+XK1bdvWoarsV1xcrMGDB2vmzJl69NFHnS7HVm63W2lpaU6X4YjHH39cmZmZmjVrVnBas2bNHKzIHIzQ4biCggJJUlJSksOV2M/v92vevHk6dOiQunbt6nQ5thoxYoQuvfRSXXjhhU6XYrstW7YoPT1dzZs31+DBg5Wdne10SbZ555131LlzZ1133XVKTU1Vx44dNXPmTKfLMgIjdDgqEAjovvvuU/fu3XXmmWc6XY5t1q9fr65du6qsrEyxsbF688031aZNG6fLss28efO0evVqrVixwulSbNelSxfNnj1brVq10p49ezR+/Hidd9552rBhg+Li4pwur9ZlZWVp2rRpGjlypH7/+99rxYoVuueeexQZGakhQ4Y4XV6dRqDDUSNGjNCGDRtC6hyiJLVq1Upr165VQUGBXnvtNQ0ZMkRLliwJiVDfuXOn7r33Xn344YeKiopyuhzb/e/ptnbt2qlLly5q0qSJXnnlFQ0dOtTByuwRCATUuXNnTZo0SZLUsWNHbdiwQdOnTyfQTxCH3OGYu+66S++9954WLVp0SvwZWztFRkbq9NNPV6dOnTR58mS1b99ef/nLX5wuyxarVq3Svn37dPbZZ8vtdsvtdmvJkiV65pln5Ha75ff7nS7RVgkJCWrZsqW2bt3qdCm2aNiwYbU3rmeccUZInXaoLYzQYTvLsnT33XfrzTff1OLFi7kgRpWjlvLycqfLsEWfPn20fv36KtNuu+02tW7dWmPGjFF4eLhDlTmjuLhY27Zt08033+x0Kbbo3r17tY+pbt68WU2aNHGoInMQ6A4oLi6u8m58+/btWrt2rZKSktS4cWMHK7PHiBEjNHfuXL399tuKi4vT3r17JUler1fR0dEOV1f7xo4dq/79+6tx48YqKirS3LlztXjxYn3wwQdOl2aLuLi4atdL1KtXT8nJySFxHcWoUaM0YMAANWnSRDk5ORo3bpzCw8M1aNAgp0uzxf33369u3bpp0qRJGjhwoL788kvNmDFDM2bMcLq0us+C7RYtWmRJqnYbMmSI06XZoqbeJVmzZs1yujRb3H777VaTJk2syMhIKyUlxerTp4+1cOFCp8tyVK9evax7773X6TJscf3111sNGza0IiMjrUaNGlnXX3+9tXXrVqfLstW7775rnXnmmZbH47Fat25tzZgxw+mSjMCfTwUAwABcFAcAgAEIdAAADECgAwBgAAIdAAADEOgAABiAQAcAwAAEOgAABiDQARy1Rx55RB06dDihZXz77bdyuVxau3btSakJQCUCHahlLpfrZ2+PPPKIbbX07t1b9913n23rA2AfvssdqGV79uwJ/jx//nw9/PDDVf44RWxsbPBny7Lk9/vldvPSBHBsGKEDtSwtLS1483q9crlcwfvffPON4uLitGDBAnXq1Ekej0fLli3TrbfeqiuvvLLKcu677z717t07eD8QCGjy5Mlq1qyZoqOj1b59e7322msnVOuYMWPUsmVLxcTEqHnz5vrDH/6gioqKavM9//zzyszMVExMjAYOHKiCgoIqj//tb3/TGWecoaioKLVu3VpTp079yXXm5+dr8ODBSklJUXR0tFq0aKFZs2adUB9AKGIYAJwCHnjgAT3xxBNq3ry5EhMTj+o5kydP1ksvvaTp06erRYsW+vTTT3XTTTcpJSVFvXr1Oq464uLiNHv2bKWnp2v9+vUaNmyY4uLi9Lvf/S44z9atW/XKK6/o3XffVWFhoYYOHao777xTc+bMkSTNmTNHDz/8sJ599ll17NhRa9as0bBhw1SvXj0NGTKk2jr/8Ic/aOPGjVqwYIHq16+vrVu3qrS09LjqB0IZgQ6cAv74xz/qoosuOur5y8vLNWnSJH300Ufq2rWrJKl58+ZatmyZnn/++eMO9Iceeij4c9OmTTVq1CjNmzevSqCXlZXpxRdfVKNGjSRJf/3rX3XppZdqypQpSktL07hx4zRlyhRdffXVkqRmzZpp48aNev7552sM9OzsbHXs2FGdO3cOrhfAsSPQgVPAD2F2tLZu3aqSkpJqbwIOHz6sjh07Hncd8+fP1zPPPKNt27apuLhYPp9P8fHxVeZp3LhxMMwlqWvXrgoEAtq0aZPi4uK0bds2DR06VMOGDQvO4/P55PV6a1zn8OHDdc0112j16tXq27evrrzySnXr1u24ewBCFYEOnALq1atX5X5YWJh+/JeN//dcdnFxsSTpX//6V5VwlSSPx3NcNXz++ecaPHiwxo8fr379+snr9WrevHmaMmXKUS/jh7pmzpypLl26VHksPDy8xuf0799fO3bs0L///W99+OGH6tOnj0aMGKEnnnjiuPoAQhWBDpyCUlJStGHDhirT1q5dq4iICElSmzZt5PF4lJ2dfdyH13/ss88+U5MmTfTggw8Gp+3YsaPafNnZ2crJyVF6erokafny5QoLC1OrVq3UoEEDpaenKysrS4MHDz7qdaekpGjIkCEaMmSIzjvvPI0ePZpAB44RgQ6cgi644AL9+c9/1osvvqiuXbvqpZde0oYNG4KH0+Pi4jRq1Cjdf//9CgQC6tGjhwoKCvSf//xH8fHxNZ6r/kFubm61L3Vp2LChWrRooezsbM2bN0/nnHOO/vWvf+nNN9+s9vyoqCgNGTJETzzxhAoLC3XPPfdo4MCBSktLkySNHz9e99xzj7xery6++GKVl5dr5cqVys/P18iRI6st7+GHH1anTp3Utm1blZeX67333tMZZ5xxAlsPCFEWANvMmjXL8nq9wfuLFi2yJFn5+fnV5n344YetBg0aWF6v17r//vutu+66y+rVq1fw8UAgYD399NNWq1atrIiICCslJcXq16+ftWTJkp9cf69evSxJ1W4TJkywLMuyRo8ebSUnJ1uxsbHW9ddfbz311FNV6h03bpzVvn17a+rUqVZ6eroVFRVlXXvttVZeXl6V9cyZM8fq0KGDFRkZaSUmJlo9e/a03njjDcuyLGv79u2WJGvNmjWWZVnWhAkTrDPOOMOKjo62kpKSrCuuuMLKyso6tg0LwHJZ1o9O1AEAgDqHL5YBAMAABDoAAAYg0AEAMACBDgCAAQh0AAAMQKADAGAAAh0AAAMQ6AAAGIBABwDAAAQ6AAAGINABADAAgQ4AgAEIdAAADECgAwBggP8HckmNTiAhhIIAAAAASUVORK5CYII=",
            "_dom_classes": [],
            "_figure_label": "Figure 9",
            "_image_mode": "full",
            "_message": "",
            "_model_module": "jupyter-matplotlib",
            "_model_module_version": "^0.11",
            "_model_name": "MPLCanvasModel",
            "_rubberband_height": 0,
            "_rubberband_width": 0,
            "_rubberband_x": 0,
            "_rubberband_y": 0,
            "_size": [
              500,
              500
            ],
            "_view_count": null,
            "_view_module": "jupyter-matplotlib",
            "_view_module_version": "^0.11",
            "_view_name": "MPLCanvasView",
            "capture_scroll": false,
            "footer_visible": true,
            "header_visible": true,
            "layout": "IPY_MODEL_02d4874ffea143b387070befb6346116",
            "pan_zoom_throttle": 33,
            "resizable": true,
            "toolbar": "IPY_MODEL_e8c7e002f5294de49ac7a2bb5fa48f70",
            "toolbar_position": "left",
            "toolbar_visible": "fade-in-fade-out"
          }
        },
        "02d4874ffea143b387070befb6346116": {
          "model_module": "@jupyter-widgets/base",
          "model_name": "LayoutModel",
          "model_module_version": "1.2.0",
          "state": {
            "_model_module": "@jupyter-widgets/base",
            "_model_module_version": "1.2.0",
            "_model_name": "LayoutModel",
            "_view_count": null,
            "_view_module": "@jupyter-widgets/base",
            "_view_module_version": "1.2.0",
            "_view_name": "LayoutView",
            "align_content": null,
            "align_items": null,
            "align_self": null,
            "border": null,
            "bottom": null,
            "display": null,
            "flex": null,
            "flex_flow": null,
            "grid_area": null,
            "grid_auto_columns": null,
            "grid_auto_flow": null,
            "grid_auto_rows": null,
            "grid_column": null,
            "grid_gap": null,
            "grid_row": null,
            "grid_template_areas": null,
            "grid_template_columns": null,
            "grid_template_rows": null,
            "height": null,
            "justify_content": null,
            "justify_items": null,
            "left": null,
            "margin": null,
            "max_height": null,
            "max_width": null,
            "min_height": null,
            "min_width": null,
            "object_fit": null,
            "object_position": null,
            "order": null,
            "overflow": null,
            "overflow_x": null,
            "overflow_y": null,
            "padding": null,
            "right": null,
            "top": null,
            "visibility": null,
            "width": null
          }
        },
        "e8c7e002f5294de49ac7a2bb5fa48f70": {
          "model_module": "jupyter-matplotlib",
          "model_name": "ToolbarModel",
          "model_module_version": "^0.11",
          "state": {
            "_current_action": "",
            "_dom_classes": [],
            "_model_module": "jupyter-matplotlib",
            "_model_module_version": "^0.11",
            "_model_name": "ToolbarModel",
            "_view_count": null,
            "_view_module": "jupyter-matplotlib",
            "_view_module_version": "^0.11",
            "_view_name": "ToolbarView",
            "button_style": "",
            "collapsed": true,
            "layout": "IPY_MODEL_e5e05ad697a845b99a19288c16e0e093",
            "orientation": "vertical",
            "toolitems": [
              [
                "Home",
                "Reset original view",
                "home",
                "home"
              ],
              [
                "Back",
                "Back to previous view",
                "arrow-left",
                "back"
              ],
              [
                "Forward",
                "Forward to next view",
                "arrow-right",
                "forward"
              ],
              [
                "Pan",
                "Left button pans, Right button zooms\nx/y fixes axis, CTRL fixes aspect",
                "arrows",
                "pan"
              ],
              [
                "Zoom",
                "Zoom to rectangle\nx/y fixes axis",
                "square-o",
                "zoom"
              ],
              [
                "Download",
                "Download plot",
                "floppy-o",
                "save_figure"
              ]
            ]
          }
        },
        "e5e05ad697a845b99a19288c16e0e093": {
          "model_module": "@jupyter-widgets/base",
          "model_name": "LayoutModel",
          "model_module_version": "1.2.0",
          "state": {
            "_model_module": "@jupyter-widgets/base",
            "_model_module_version": "1.2.0",
            "_model_name": "LayoutModel",
            "_view_count": null,
            "_view_module": "@jupyter-widgets/base",
            "_view_module_version": "1.2.0",
            "_view_name": "LayoutView",
            "align_content": null,
            "align_items": null,
            "align_self": null,
            "border": null,
            "bottom": null,
            "display": null,
            "flex": null,
            "flex_flow": null,
            "grid_area": null,
            "grid_auto_columns": null,
            "grid_auto_flow": null,
            "grid_auto_rows": null,
            "grid_column": null,
            "grid_gap": null,
            "grid_row": null,
            "grid_template_areas": null,
            "grid_template_columns": null,
            "grid_template_rows": null,
            "height": null,
            "justify_content": null,
            "justify_items": null,
            "left": null,
            "margin": null,
            "max_height": null,
            "max_width": null,
            "min_height": null,
            "min_width": null,
            "object_fit": null,
            "object_position": null,
            "order": null,
            "overflow": null,
            "overflow_x": null,
            "overflow_y": null,
            "padding": null,
            "right": null,
            "top": null,
            "visibility": null,
            "width": null
          }
        }
      }
    }
  },
  "cells": [
    {
      "cell_type": "markdown",
      "metadata": {
        "id": "view-in-github",
        "colab_type": "text"
      },
      "source": [
        "<a href=\"https://colab.research.google.com/github/ankesh86/IntroductionToMachineLearning/blob/main/ASSGN_q3_part2.ipynb\" target=\"_parent\"><img src=\"https://colab.research.google.com/assets/colab-badge.svg\" alt=\"Open In Colab\"/></a>"
      ]
    },
    {
      "cell_type": "code",
      "execution_count": 1,
      "metadata": {
        "colab": {
          "base_uri": "https://localhost:8080/"
        },
        "id": "W3Vr-wbulkto",
        "outputId": "9b0c6e41-3a97-447f-e440-030288b15995"
      },
      "outputs": [
        {
          "output_type": "stream",
          "name": "stdout",
          "text": [
            "\u001b[2K     \u001b[90m━━━━━━━━━━━━━━━━━━━━━━━━━━━━━━━━━━━━━━━━\u001b[0m \u001b[32m516.3/516.3 kB\u001b[0m \u001b[31m6.5 MB/s\u001b[0m eta \u001b[36m0:00:00\u001b[0m\n",
            "\u001b[2K     \u001b[90m━━━━━━━━━━━━━━━━━━━━━━━━━━━━━━━━━━━━━━━━\u001b[0m \u001b[32m1.6/1.6 MB\u001b[0m \u001b[31m12.8 MB/s\u001b[0m eta \u001b[36m0:00:00\u001b[0m\n",
            "\u001b[?25h"
          ]
        }
      ],
      "source": [
        "!pip -q install ipympl"
      ]
    },
    {
      "cell_type": "code",
      "source": [
        "import pandas as pd\n",
        "import numpy as np\n",
        "from sklearn import preprocessing\n",
        "from scipy.stats import norm, multivariate_normal\n",
        "from sklearn import preprocessing\n",
        "from sklearn.metrics import confusion_matrix, ConfusionMatrixDisplay\n",
        "\n",
        "from google.colab import output\n",
        "output.enable_custom_widget_manager()"
      ],
      "metadata": {
        "id": "zOlfJ1g9l7BN"
      },
      "execution_count": 42,
      "outputs": []
    },
    {
      "cell_type": "code",
      "source": [
        "feature_df = pd.read_csv(\"X_train.txt\", header=None, delim_whitespace=True)\n",
        "label_df = pd.read_csv(\"y_train.txt\", header=None, delim_whitespace=True)"
      ],
      "metadata": {
        "id": "GuNh5RxQothh"
      },
      "execution_count": 43,
      "outputs": []
    },
    {
      "cell_type": "code",
      "source": [
        "def regularized_cov(X, lambda_reg):\n",
        "    # Note: Ensure the input X is in the form where rows are observations\n",
        "    sigma = np.cov(X, rowvar=False)  # rowvar=False to treat rows as observations\n",
        "    n_features = X.shape[1]\n",
        "    sigma += lambda_reg * np.eye(n_features)\n",
        "    return sigma"
      ],
      "metadata": {
        "id": "R2ykw-HKtzL2"
      },
      "execution_count": 25,
      "outputs": []
    },
    {
      "cell_type": "code",
      "source": [
        "# Access rows/columns by indexing\n",
        "X = feature_df.to_numpy()\n",
        "Y = label_df.to_numpy()\n",
        "\n",
        "# Define a label encoder to encode labels numerically\n",
        "le = preprocessing.LabelEncoder()\n",
        "labels = le.fit_transform(Y)  # Fit and transform in one step\n",
        "\n",
        "# Estimate class priors\n",
        "unique_classes, counts = np.unique(Y, return_counts=True)\n",
        "class_priors = counts / counts.sum()  # Normalize counts to sum to 1\n",
        "num_classes = len(unique_classes)\n",
        "\n",
        "# Print results to verify\n",
        "print(\"Class Priors:\", class_priors)\n",
        "print(\"Number of Classes:\", num_classes)"
      ],
      "metadata": {
        "colab": {
          "base_uri": "https://localhost:8080/"
        },
        "id": "MuqhjHPDt1kI",
        "outputId": "d31501d9-9aba-4ff8-a3d3-a64e3bfa1f80"
      },
      "execution_count": 29,
      "outputs": [
        {
          "output_type": "stream",
          "name": "stdout",
          "text": [
            "Class Priors: [0.16675734 0.14594668 0.13411317 0.17491839 0.18688792 0.1913765 ]\n",
            "Number of Classes: 6\n"
          ]
        },
        {
          "output_type": "stream",
          "name": "stderr",
          "text": [
            "/usr/local/lib/python3.10/dist-packages/sklearn/preprocessing/_label.py:116: DataConversionWarning: A column-vector y was passed when a 1d array was expected. Please change the shape of y to (n_samples, ), for example using ravel().\n",
            "  y = column_or_1d(y, warn=True)\n"
          ]
        }
      ]
    },
    {
      "cell_type": "code",
      "source": [
        "# Compute mean vectors\n",
        "mean_vectors = np.array([X[labels == i].mean(axis=0) for i in range(num_classes)])\n",
        "\n",
        "# Regularization parameter\n",
        "lambda_reg = 5 / X.shape[1]\n",
        "\n",
        "# Compute regularized covariance matrices for each class\n",
        "regularized_cov_matrices = np.array([\n",
        "    regularized_cov(X[labels == i], lambda_reg)\n",
        "    for i in range(num_classes)\n",
        "])\n",
        "\n",
        "# Number of samples per class\n",
        "N_per_l = counts"
      ],
      "metadata": {
        "id": "NuFoK_UK83Aq"
      },
      "execution_count": 73,
      "outputs": []
    },
    {
      "cell_type": "code",
      "source": [
        "gmm = {\n",
        "    'priors': class_priors,\n",
        "    'mu': mean_vectors,\n",
        "    'Sigma': regularized_cov_matrices\n",
        "}\n",
        "\n",
        "print(N_per_l)\n"
      ],
      "metadata": {
        "colab": {
          "base_uri": "https://localhost:8080/"
        },
        "id": "LLW4nlFp9feA",
        "outputId": "e5f2b040-2308-4de8-c05b-87a733d559d8"
      },
      "execution_count": 74,
      "outputs": [
        {
          "output_type": "stream",
          "name": "stdout",
          "text": [
            "[1226 1073  986 1286 1374 1407]\n"
          ]
        }
      ]
    },
    {
      "cell_type": "code",
      "source": [
        "# ERM classification rule (min prob. of error classifier IF 0-1 loss)\n",
        "def perform_erm_classification(X, Lambda, gmm_params, C):\n",
        "    # Conditional likelihoods of each x given each class, shape (C, N)\n",
        "    class_cond_likelihoods = np.array([multivariate_normal.pdf(X, gmm_params['mu'][i], gmm_params['Sigma'][i]) for i in range(C)])\n",
        "\n",
        "    # Take diag so we have (C, C) shape of priors with prior prob along diagonal\n",
        "    class_priors = np.diag(gmm_params['priors'])\n",
        "    # class_priors*likelihood with diagonal matrix creates a matrix of posterior probabilities\n",
        "    # with each class as a row and N columns for samples, e.g. row 1: [p(y1)p(x1|y1), ..., p(y1)p(xN|y1)]\n",
        "    class_posteriors = class_priors.dot(class_cond_likelihoods)\n",
        "\n",
        "    # Conditional risk matrix of size C x N with each class as a row and N columns for samples\n",
        "    risk_mat = Lambda.dot(class_posteriors)\n",
        "\n",
        "    # If 0-1 loss, you could instead compute MAP result: np.argmax(class_posteriors, axis=0)\n",
        "    return np.argmin(risk_mat, axis=0)"
      ],
      "metadata": {
        "id": "ULXiVYHx9uGz"
      },
      "execution_count": 75,
      "outputs": []
    },
    {
      "cell_type": "code",
      "source": [
        "%matplotlib widget\n",
        "\n",
        "from sys import float_info  # Threshold smallest positive floating value\n",
        "\n",
        "import matplotlib.pyplot as plt # For general plotting"
      ],
      "metadata": {
        "id": "VSsA-8es9xA6"
      },
      "execution_count": 76,
      "outputs": []
    },
    {
      "cell_type": "code",
      "source": [
        "# If 0-1 loss then yield MAP decision rule, else ERM classifier\n",
        "Lambda = np.ones((num_classes, num_classes)) - np.eye(num_classes)\n",
        "\n",
        "# ERM decision rule, take index/label associated with minimum conditional risk as decision (N, 1)\n",
        "decisions = perform_erm_classification(X, Lambda, gmm, num_classes)\n",
        "\n",
        "# Simply using sklearn confusion matrix\n",
        "print(\"Confusion Matrix (rows: Predicted class, columns: True class):\")\n",
        "conf_mat = confusion_matrix(decisions, labels)\n",
        "fig, ax = plt.subplots(figsize=(5, 5))\n",
        "conf_display = ConfusionMatrixDisplay.from_predictions(decisions, labels, ax=ax,\n",
        "                                                       display_labels=['1', '2', '3', '4', '5', '6'], colorbar=False)\n",
        "plt.ylabel('Predicted Labels')\n",
        "plt.xlabel('True Labels')"
      ],
      "metadata": {
        "colab": {
          "base_uri": "https://localhost:8080/",
          "height": 624,
          "referenced_widgets": [
            "6e848b53ac92495587476e7ed2aa269d",
            "02d4874ffea143b387070befb6346116",
            "e8c7e002f5294de49ac7a2bb5fa48f70",
            "e5e05ad697a845b99a19288c16e0e093"
          ]
        },
        "id": "S3qHzyo_96TM",
        "outputId": "1e9873ba-1e05-4a87-d912-5a19ec80cd13"
      },
      "execution_count": 77,
      "outputs": [
        {
          "output_type": "stream",
          "name": "stdout",
          "text": [
            "Confusion Matrix (rows: Predicted class, columns: True class):\n"
          ]
        },
        {
          "output_type": "execute_result",
          "data": {
            "text/plain": [
              "Text(0.5, 0, 'True Labels')"
            ]
          },
          "metadata": {},
          "execution_count": 77
        },
        {
          "output_type": "display_data",
          "data": {
            "text/plain": [
              "Canvas(toolbar=Toolbar(toolitems=[('Home', 'Reset original view', 'home', 'home'), ('Back', 'Back to previous …"
            ],
            "image/png": "[encoded data removed]",
            "text/html": [
              "\n",
              "            <div style=\"display: inline-block;\">\n",
              "                <div class=\"jupyter-widgets widget-label\" style=\"text-align: center;\">\n",
              "                    Figure\n",
              "                </div>\n",
              "                <img src='data:image/png;base64,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' width=500.0/>\n",
              "            </div>\n",
              "        "
            ],
            "application/vnd.jupyter.widget-view+json": {
              "version_major": 2,
              "version_minor": 0,
              "model_id": "6e848b53ac92495587476e7ed2aa269d"
            }
          },
          "metadata": {
            "application/vnd.jupyter.widget-view+json": {
              "colab": {
                "custom_widget_manager": {
                  "url": "https://ssl.gstatic.com/colaboratory-static/widgets/colab-cdn-widget-manager/2b70e893a8ba7c0f/manager.min.js"
                }
              }
            }
          }
        }
      ]
    },
    {
      "cell_type": "code",
      "source": [
        "# Total number of rows/samples\n",
        "N = len(feature_df.index)\n",
        "\n",
        "correct_class_samples = np.sum(np.diag(conf_mat))\n",
        "print(\"Total number of Misclassified Samples: {:d}\".format(N - correct_class_samples))\n",
        "\n",
        "prob_error = 1 - (correct_class_samples / N)\n",
        "print(\"Empirically Estimated Probability of Error: {:.4f}\".format(prob_error))"
      ],
      "metadata": {
        "colab": {
          "base_uri": "https://localhost:8080/",
          "height": 52
        },
        "id": "Cul2aEcA-UM9",
        "outputId": "04849fed-82a9-4434-e7b9-da7213222193"
      },
      "execution_count": 78,
      "outputs": [
        {
          "output_type": "stream",
          "name": "stdout",
          "text": [
            "Total number of Misclassified Samples: 88\n",
            "Empirically Estimated Probability of Error: 0.0120\n"
          ]
        }
      ]
    },
    {
      "cell_type": "code",
      "source": [],
      "metadata": {
        "id": "WT7ihRv5l_Z4"
      },
      "execution_count": null,
      "outputs": []
    }
  ]
}